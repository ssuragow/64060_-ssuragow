{
  "nbformat": 4,
  "nbformat_minor": 0,
  "metadata": {
    "colab": {
      "name": "Untitled6.ipynb",
      "provenance": [],
      "include_colab_link": true
    },
    "kernelspec": {
      "name": "python3",
      "display_name": "Python 3"
    },
    "language_info": {
      "name": "python"
    }
  },
  "cells": [
    {
      "cell_type": "markdown",
      "metadata": {
        "id": "view-in-github",
        "colab_type": "text"
      },
      "source": [
        "<a href=\"https://colab.research.google.com/github/ssuragow/64060_-ssuragow/blob/main/Untitled6.ipynb\" target=\"_parent\"><img src=\"https://colab.research.google.com/assets/colab-badge.svg\" alt=\"Open In Colab\"/></a>"
      ]
    },
    {
      "cell_type": "code",
      "execution_count": 26,
      "metadata": {
        "id": "pBpjc29Cucjr"
      },
      "outputs": [],
      "source": [
        "%matplotlib inline\n",
        "import numpy as np\n",
        "import pandas as pd\n",
        "import matplotlib.pyplot as plt\n",
        "import scipy.stats as stats\n",
        "import os"
      ]
    },
    {
      "cell_type": "code",
      "source": [
        "crashes = pd.read_csv(\"Airplane_Crashes_and_Fatalities_Since_1908.csv\")"
      ],
      "metadata": {
        "id": "_DjyuyV1FaFi"
      },
      "execution_count": 30,
      "outputs": []
    },
    {
      "cell_type": "code",
      "source": [
        "airlines = pd.read_csv(\"airline-safety.csv\")\n"
      ],
      "metadata": {
        "id": "JD7pUSNCKy6O"
      },
      "execution_count": 31,
      "outputs": []
    },
    {
      "cell_type": "code",
      "source": [
        "100 * crashes.isnull().sum()/len(crashes)"
      ],
      "metadata": {
        "colab": {
          "base_uri": "https://localhost:8080/"
        },
        "id": "9253ybKpwEBE",
        "outputId": "ee1d3f23-b28e-4dd9-c833-f90a490fc02d"
      },
      "execution_count": 29,
      "outputs": [
        {
          "output_type": "execute_result",
          "data": {
            "text/plain": [
              "Date             0.000000\n",
              "Time            42.122248\n",
              "Location         0.379651\n",
              "Operator         0.341686\n",
              "Flight #        79.707669\n",
              "Route           32.384207\n",
              "Type             0.512528\n",
              "Registration     6.359150\n",
              "cn/In           23.310554\n",
              "Aboard           0.417616\n",
              "Fatalities       0.227790\n",
              "Ground           0.417616\n",
              "Summary          7.403189\n",
              "dtype: float64"
            ]
          },
          "metadata": {},
          "execution_count": 29
        }
      ]
    },
    {
      "cell_type": "code",
      "source": [
        "del crashes[\"Time\"]\n",
        "del crashes[\"Flight #\"]\n",
        "del crashes[\"Route\"]\n",
        "del crashes[\"cn/In\"]\n",
        "del crashes[\"Registration\"]\n",
        "del crashes[\"Ground\"]"
      ],
      "metadata": {
        "id": "TKQ3OPfNwERn"
      },
      "execution_count": null,
      "outputs": []
    },
    {
      "cell_type": "code",
      "source": [
        "crashes.dropna(subset=[\"Location\",\"Operator\",\"Type\",\"Aboard\",\"Fatalities\"], inplace=True)"
      ],
      "metadata": {
        "id": "MMjuaxpUwEcQ"
      },
      "execution_count": null,
      "outputs": []
    },
    {
      "cell_type": "code",
      "source": [
        "crashes[\"Date\"] = pd.to_datetime(crashes[\"Date\"])"
      ],
      "metadata": {
        "id": "5hxabiBbwEn9"
      },
      "execution_count": null,
      "outputs": []
    },
    {
      "cell_type": "code",
      "source": [
        "crashes.head()\n"
      ],
      "metadata": {
        "colab": {
          "base_uri": "https://localhost:8080/",
          "height": 337
        },
        "id": "JNn8_C0OwEq2",
        "outputId": "6496d875-0730-4765-82f3-f1f884220357"
      },
      "execution_count": null,
      "outputs": [
        {
          "output_type": "execute_result",
          "data": {
            "text/plain": [
              "        Date                            Location                Operator  \\\n",
              "0 1908-09-17                 Fort Myer, Virginia    Military - U.S. Army   \n",
              "1 1912-07-12             AtlantiCity, New Jersey    Military - U.S. Navy   \n",
              "2 1913-08-06  Victoria, British Columbia, Canada                 Private   \n",
              "3 1913-09-09                  Over the North Sea  Military - German Navy   \n",
              "4 1913-10-17          Near Johannisthal, Germany  Military - German Navy   \n",
              "\n",
              "                     Type  Aboard  Fatalities  \\\n",
              "0        Wright Flyer III     2.0         1.0   \n",
              "1               Dirigible     5.0         5.0   \n",
              "2        Curtiss seaplane     1.0         1.0   \n",
              "3  Zeppelin L-1 (airship)    20.0        14.0   \n",
              "4  Zeppelin L-2 (airship)    30.0        30.0   \n",
              "\n",
              "                                             Summary  \n",
              "0  During a demonstration flight, a U.S. Army fly...  \n",
              "1  First U.S. dirigible Akron exploded just offsh...  \n",
              "2  The first fatal airplane accident in Canada oc...  \n",
              "3  The airship flew into a thunderstorm and encou...  \n",
              "4  Hydrogen gas which was being vented was sucked...  "
            ],
            "text/html": [
              "\n",
              "  <div id=\"df-bfa5816d-3c6e-4158-84f1-f9bd4137e786\">\n",
              "    <div class=\"colab-df-container\">\n",
              "      <div>\n",
              "<style scoped>\n",
              "    .dataframe tbody tr th:only-of-type {\n",
              "        vertical-align: middle;\n",
              "    }\n",
              "\n",
              "    .dataframe tbody tr th {\n",
              "        vertical-align: top;\n",
              "    }\n",
              "\n",
              "    .dataframe thead th {\n",
              "        text-align: right;\n",
              "    }\n",
              "</style>\n",
              "<table border=\"1\" class=\"dataframe\">\n",
              "  <thead>\n",
              "    <tr style=\"text-align: right;\">\n",
              "      <th></th>\n",
              "      <th>Date</th>\n",
              "      <th>Location</th>\n",
              "      <th>Operator</th>\n",
              "      <th>Type</th>\n",
              "      <th>Aboard</th>\n",
              "      <th>Fatalities</th>\n",
              "      <th>Summary</th>\n",
              "    </tr>\n",
              "  </thead>\n",
              "  <tbody>\n",
              "    <tr>\n",
              "      <th>0</th>\n",
              "      <td>1908-09-17</td>\n",
              "      <td>Fort Myer, Virginia</td>\n",
              "      <td>Military - U.S. Army</td>\n",
              "      <td>Wright Flyer III</td>\n",
              "      <td>2.0</td>\n",
              "      <td>1.0</td>\n",
              "      <td>During a demonstration flight, a U.S. Army fly...</td>\n",
              "    </tr>\n",
              "    <tr>\n",
              "      <th>1</th>\n",
              "      <td>1912-07-12</td>\n",
              "      <td>AtlantiCity, New Jersey</td>\n",
              "      <td>Military - U.S. Navy</td>\n",
              "      <td>Dirigible</td>\n",
              "      <td>5.0</td>\n",
              "      <td>5.0</td>\n",
              "      <td>First U.S. dirigible Akron exploded just offsh...</td>\n",
              "    </tr>\n",
              "    <tr>\n",
              "      <th>2</th>\n",
              "      <td>1913-08-06</td>\n",
              "      <td>Victoria, British Columbia, Canada</td>\n",
              "      <td>Private</td>\n",
              "      <td>Curtiss seaplane</td>\n",
              "      <td>1.0</td>\n",
              "      <td>1.0</td>\n",
              "      <td>The first fatal airplane accident in Canada oc...</td>\n",
              "    </tr>\n",
              "    <tr>\n",
              "      <th>3</th>\n",
              "      <td>1913-09-09</td>\n",
              "      <td>Over the North Sea</td>\n",
              "      <td>Military - German Navy</td>\n",
              "      <td>Zeppelin L-1 (airship)</td>\n",
              "      <td>20.0</td>\n",
              "      <td>14.0</td>\n",
              "      <td>The airship flew into a thunderstorm and encou...</td>\n",
              "    </tr>\n",
              "    <tr>\n",
              "      <th>4</th>\n",
              "      <td>1913-10-17</td>\n",
              "      <td>Near Johannisthal, Germany</td>\n",
              "      <td>Military - German Navy</td>\n",
              "      <td>Zeppelin L-2 (airship)</td>\n",
              "      <td>30.0</td>\n",
              "      <td>30.0</td>\n",
              "      <td>Hydrogen gas which was being vented was sucked...</td>\n",
              "    </tr>\n",
              "  </tbody>\n",
              "</table>\n",
              "</div>\n",
              "      <button class=\"colab-df-convert\" onclick=\"convertToInteractive('df-bfa5816d-3c6e-4158-84f1-f9bd4137e786')\"\n",
              "              title=\"Convert this dataframe to an interactive table.\"\n",
              "              style=\"display:none;\">\n",
              "        \n",
              "  <svg xmlns=\"http://www.w3.org/2000/svg\" height=\"24px\"viewBox=\"0 0 24 24\"\n",
              "       width=\"24px\">\n",
              "    <path d=\"M0 0h24v24H0V0z\" fill=\"none\"/>\n",
              "    <path d=\"M18.56 5.44l.94 2.06.94-2.06 2.06-.94-2.06-.94-.94-2.06-.94 2.06-2.06.94zm-11 1L8.5 8.5l.94-2.06 2.06-.94-2.06-.94L8.5 2.5l-.94 2.06-2.06.94zm10 10l.94 2.06.94-2.06 2.06-.94-2.06-.94-.94-2.06-.94 2.06-2.06.94z\"/><path d=\"M17.41 7.96l-1.37-1.37c-.4-.4-.92-.59-1.43-.59-.52 0-1.04.2-1.43.59L10.3 9.45l-7.72 7.72c-.78.78-.78 2.05 0 2.83L4 21.41c.39.39.9.59 1.41.59.51 0 1.02-.2 1.41-.59l7.78-7.78 2.81-2.81c.8-.78.8-2.07 0-2.86zM5.41 20L4 18.59l7.72-7.72 1.47 1.35L5.41 20z\"/>\n",
              "  </svg>\n",
              "      </button>\n",
              "      \n",
              "  <style>\n",
              "    .colab-df-container {\n",
              "      display:flex;\n",
              "      flex-wrap:wrap;\n",
              "      gap: 12px;\n",
              "    }\n",
              "\n",
              "    .colab-df-convert {\n",
              "      background-color: #E8F0FE;\n",
              "      border: none;\n",
              "      border-radius: 50%;\n",
              "      cursor: pointer;\n",
              "      display: none;\n",
              "      fill: #1967D2;\n",
              "      height: 32px;\n",
              "      padding: 0 0 0 0;\n",
              "      width: 32px;\n",
              "    }\n",
              "\n",
              "    .colab-df-convert:hover {\n",
              "      background-color: #E2EBFA;\n",
              "      box-shadow: 0px 1px 2px rgba(60, 64, 67, 0.3), 0px 1px 3px 1px rgba(60, 64, 67, 0.15);\n",
              "      fill: #174EA6;\n",
              "    }\n",
              "\n",
              "    [theme=dark] .colab-df-convert {\n",
              "      background-color: #3B4455;\n",
              "      fill: #D2E3FC;\n",
              "    }\n",
              "\n",
              "    [theme=dark] .colab-df-convert:hover {\n",
              "      background-color: #434B5C;\n",
              "      box-shadow: 0px 1px 3px 1px rgba(0, 0, 0, 0.15);\n",
              "      filter: drop-shadow(0px 1px 2px rgba(0, 0, 0, 0.3));\n",
              "      fill: #FFFFFF;\n",
              "    }\n",
              "  </style>\n",
              "\n",
              "      <script>\n",
              "        const buttonEl =\n",
              "          document.querySelector('#df-bfa5816d-3c6e-4158-84f1-f9bd4137e786 button.colab-df-convert');\n",
              "        buttonEl.style.display =\n",
              "          google.colab.kernel.accessAllowed ? 'block' : 'none';\n",
              "\n",
              "        async function convertToInteractive(key) {\n",
              "          const element = document.querySelector('#df-bfa5816d-3c6e-4158-84f1-f9bd4137e786');\n",
              "          const dataTable =\n",
              "            await google.colab.kernel.invokeFunction('convertToInteractive',\n",
              "                                                     [key], {});\n",
              "          if (!dataTable) return;\n",
              "\n",
              "          const docLinkHtml = 'Like what you see? Visit the ' +\n",
              "            '<a target=\"_blank\" href=https://colab.research.google.com/notebooks/data_table.ipynb>data table notebook</a>'\n",
              "            + ' to learn more about interactive tables.';\n",
              "          element.innerHTML = '';\n",
              "          dataTable['output_type'] = 'display_data';\n",
              "          await google.colab.output.renderOutput(dataTable, element);\n",
              "          const docLink = document.createElement('div');\n",
              "          docLink.innerHTML = docLinkHtml;\n",
              "          element.appendChild(docLink);\n",
              "        }\n",
              "      </script>\n",
              "    </div>\n",
              "  </div>\n",
              "  "
            ]
          },
          "metadata": {},
          "execution_count": 21
        }
      ]
    },
    {
      "cell_type": "code",
      "source": [
        "crashes.info()\n"
      ],
      "metadata": {
        "colab": {
          "base_uri": "https://localhost:8080/"
        },
        "id": "qY7ZGU8QwEtq",
        "outputId": "5f4d5e87-8a00-4969-a1d1-d38c61e933f6"
      },
      "execution_count": null,
      "outputs": [
        {
          "output_type": "stream",
          "name": "stdout",
          "text": [
            "<class 'pandas.core.frame.DataFrame'>\n",
            "Int64Index: 5191 entries, 0 to 5267\n",
            "Data columns (total 7 columns):\n",
            " #   Column      Non-Null Count  Dtype         \n",
            "---  ------      --------------  -----         \n",
            " 0   Date        5191 non-null   datetime64[ns]\n",
            " 1   Location    5191 non-null   object        \n",
            " 2   Operator    5191 non-null   object        \n",
            " 3   Type        5191 non-null   object        \n",
            " 4   Aboard      5191 non-null   float64       \n",
            " 5   Fatalities  5191 non-null   float64       \n",
            " 6   Summary     4823 non-null   object        \n",
            "dtypes: datetime64[ns](1), float64(2), object(4)\n",
            "memory usage: 324.4+ KB\n"
          ]
        }
      ]
    },
    {
      "cell_type": "code",
      "source": [
        "100 * crashes.isnull().sum()/len(crashes)\n"
      ],
      "metadata": {
        "colab": {
          "base_uri": "https://localhost:8080/"
        },
        "id": "ruhZ0bTdwExC",
        "outputId": "31ccdde7-2e70-4235-84b7-def05a521ad7"
      },
      "execution_count": null,
      "outputs": [
        {
          "output_type": "execute_result",
          "data": {
            "text/plain": [
              "Date          0.000000\n",
              "Location      0.000000\n",
              "Operator      0.000000\n",
              "Type          0.000000\n",
              "Aboard        0.000000\n",
              "Fatalities    0.000000\n",
              "Summary       7.089193\n",
              "dtype: float64"
            ]
          },
          "metadata": {},
          "execution_count": 13
        }
      ]
    },
    {
      "cell_type": "code",
      "source": [
        "airlines.head()\n"
      ],
      "metadata": {
        "colab": {
          "base_uri": "https://localhost:8080/",
          "height": 287
        },
        "id": "xYkfos7vDiHF",
        "outputId": "50169a70-8672-4895-81ab-ef9d24088877"
      },
      "execution_count": null,
      "outputs": [
        {
          "output_type": "execute_result",
          "data": {
            "text/plain": [
              "                 airline  avail_seat_km_per_week  incidents_85_99  \\\n",
              "0             Aer Lingus               320906734                2   \n",
              "1              Aeroflot*              1197672318               76   \n",
              "2  Aerolineas Argentinas               385803648                6   \n",
              "3            Aeromexico*               596871813                3   \n",
              "4             Air Canada              1865253802                2   \n",
              "\n",
              "   fatal_accidents_85_99  fatalities_85_99  incidents_00_14  \\\n",
              "0                      0                 0                0   \n",
              "1                     14               128                6   \n",
              "2                      0                 0                1   \n",
              "3                      1                64                5   \n",
              "4                      0                 0                2   \n",
              "\n",
              "   fatal_accidents_00_14  fatalities_00_14  \n",
              "0                      0                 0  \n",
              "1                      1                88  \n",
              "2                      0                 0  \n",
              "3                      0                 0  \n",
              "4                      0                 0  "
            ],
            "text/html": [
              "\n",
              "  <div id=\"df-d6ce638c-a43a-4285-a105-b4a930a1ac74\">\n",
              "    <div class=\"colab-df-container\">\n",
              "      <div>\n",
              "<style scoped>\n",
              "    .dataframe tbody tr th:only-of-type {\n",
              "        vertical-align: middle;\n",
              "    }\n",
              "\n",
              "    .dataframe tbody tr th {\n",
              "        vertical-align: top;\n",
              "    }\n",
              "\n",
              "    .dataframe thead th {\n",
              "        text-align: right;\n",
              "    }\n",
              "</style>\n",
              "<table border=\"1\" class=\"dataframe\">\n",
              "  <thead>\n",
              "    <tr style=\"text-align: right;\">\n",
              "      <th></th>\n",
              "      <th>airline</th>\n",
              "      <th>avail_seat_km_per_week</th>\n",
              "      <th>incidents_85_99</th>\n",
              "      <th>fatal_accidents_85_99</th>\n",
              "      <th>fatalities_85_99</th>\n",
              "      <th>incidents_00_14</th>\n",
              "      <th>fatal_accidents_00_14</th>\n",
              "      <th>fatalities_00_14</th>\n",
              "    </tr>\n",
              "  </thead>\n",
              "  <tbody>\n",
              "    <tr>\n",
              "      <th>0</th>\n",
              "      <td>Aer Lingus</td>\n",
              "      <td>320906734</td>\n",
              "      <td>2</td>\n",
              "      <td>0</td>\n",
              "      <td>0</td>\n",
              "      <td>0</td>\n",
              "      <td>0</td>\n",
              "      <td>0</td>\n",
              "    </tr>\n",
              "    <tr>\n",
              "      <th>1</th>\n",
              "      <td>Aeroflot*</td>\n",
              "      <td>1197672318</td>\n",
              "      <td>76</td>\n",
              "      <td>14</td>\n",
              "      <td>128</td>\n",
              "      <td>6</td>\n",
              "      <td>1</td>\n",
              "      <td>88</td>\n",
              "    </tr>\n",
              "    <tr>\n",
              "      <th>2</th>\n",
              "      <td>Aerolineas Argentinas</td>\n",
              "      <td>385803648</td>\n",
              "      <td>6</td>\n",
              "      <td>0</td>\n",
              "      <td>0</td>\n",
              "      <td>1</td>\n",
              "      <td>0</td>\n",
              "      <td>0</td>\n",
              "    </tr>\n",
              "    <tr>\n",
              "      <th>3</th>\n",
              "      <td>Aeromexico*</td>\n",
              "      <td>596871813</td>\n",
              "      <td>3</td>\n",
              "      <td>1</td>\n",
              "      <td>64</td>\n",
              "      <td>5</td>\n",
              "      <td>0</td>\n",
              "      <td>0</td>\n",
              "    </tr>\n",
              "    <tr>\n",
              "      <th>4</th>\n",
              "      <td>Air Canada</td>\n",
              "      <td>1865253802</td>\n",
              "      <td>2</td>\n",
              "      <td>0</td>\n",
              "      <td>0</td>\n",
              "      <td>2</td>\n",
              "      <td>0</td>\n",
              "      <td>0</td>\n",
              "    </tr>\n",
              "  </tbody>\n",
              "</table>\n",
              "</div>\n",
              "      <button class=\"colab-df-convert\" onclick=\"convertToInteractive('df-d6ce638c-a43a-4285-a105-b4a930a1ac74')\"\n",
              "              title=\"Convert this dataframe to an interactive table.\"\n",
              "              style=\"display:none;\">\n",
              "        \n",
              "  <svg xmlns=\"http://www.w3.org/2000/svg\" height=\"24px\"viewBox=\"0 0 24 24\"\n",
              "       width=\"24px\">\n",
              "    <path d=\"M0 0h24v24H0V0z\" fill=\"none\"/>\n",
              "    <path d=\"M18.56 5.44l.94 2.06.94-2.06 2.06-.94-2.06-.94-.94-2.06-.94 2.06-2.06.94zm-11 1L8.5 8.5l.94-2.06 2.06-.94-2.06-.94L8.5 2.5l-.94 2.06-2.06.94zm10 10l.94 2.06.94-2.06 2.06-.94-2.06-.94-.94-2.06-.94 2.06-2.06.94z\"/><path d=\"M17.41 7.96l-1.37-1.37c-.4-.4-.92-.59-1.43-.59-.52 0-1.04.2-1.43.59L10.3 9.45l-7.72 7.72c-.78.78-.78 2.05 0 2.83L4 21.41c.39.39.9.59 1.41.59.51 0 1.02-.2 1.41-.59l7.78-7.78 2.81-2.81c.8-.78.8-2.07 0-2.86zM5.41 20L4 18.59l7.72-7.72 1.47 1.35L5.41 20z\"/>\n",
              "  </svg>\n",
              "      </button>\n",
              "      \n",
              "  <style>\n",
              "    .colab-df-container {\n",
              "      display:flex;\n",
              "      flex-wrap:wrap;\n",
              "      gap: 12px;\n",
              "    }\n",
              "\n",
              "    .colab-df-convert {\n",
              "      background-color: #E8F0FE;\n",
              "      border: none;\n",
              "      border-radius: 50%;\n",
              "      cursor: pointer;\n",
              "      display: none;\n",
              "      fill: #1967D2;\n",
              "      height: 32px;\n",
              "      padding: 0 0 0 0;\n",
              "      width: 32px;\n",
              "    }\n",
              "\n",
              "    .colab-df-convert:hover {\n",
              "      background-color: #E2EBFA;\n",
              "      box-shadow: 0px 1px 2px rgba(60, 64, 67, 0.3), 0px 1px 3px 1px rgba(60, 64, 67, 0.15);\n",
              "      fill: #174EA6;\n",
              "    }\n",
              "\n",
              "    [theme=dark] .colab-df-convert {\n",
              "      background-color: #3B4455;\n",
              "      fill: #D2E3FC;\n",
              "    }\n",
              "\n",
              "    [theme=dark] .colab-df-convert:hover {\n",
              "      background-color: #434B5C;\n",
              "      box-shadow: 0px 1px 3px 1px rgba(0, 0, 0, 0.15);\n",
              "      filter: drop-shadow(0px 1px 2px rgba(0, 0, 0, 0.3));\n",
              "      fill: #FFFFFF;\n",
              "    }\n",
              "  </style>\n",
              "\n",
              "      <script>\n",
              "        const buttonEl =\n",
              "          document.querySelector('#df-d6ce638c-a43a-4285-a105-b4a930a1ac74 button.colab-df-convert');\n",
              "        buttonEl.style.display =\n",
              "          google.colab.kernel.accessAllowed ? 'block' : 'none';\n",
              "\n",
              "        async function convertToInteractive(key) {\n",
              "          const element = document.querySelector('#df-d6ce638c-a43a-4285-a105-b4a930a1ac74');\n",
              "          const dataTable =\n",
              "            await google.colab.kernel.invokeFunction('convertToInteractive',\n",
              "                                                     [key], {});\n",
              "          if (!dataTable) return;\n",
              "\n",
              "          const docLinkHtml = 'Like what you see? Visit the ' +\n",
              "            '<a target=\"_blank\" href=https://colab.research.google.com/notebooks/data_table.ipynb>data table notebook</a>'\n",
              "            + ' to learn more about interactive tables.';\n",
              "          element.innerHTML = '';\n",
              "          dataTable['output_type'] = 'display_data';\n",
              "          await google.colab.output.renderOutput(dataTable, element);\n",
              "          const docLink = document.createElement('div');\n",
              "          docLink.innerHTML = docLinkHtml;\n",
              "          element.appendChild(docLink);\n",
              "        }\n",
              "      </script>\n",
              "    </div>\n",
              "  </div>\n",
              "  "
            ]
          },
          "metadata": {},
          "execution_count": 14
        }
      ]
    },
    {
      "cell_type": "code",
      "source": [
        "airlines.info()\n"
      ],
      "metadata": {
        "colab": {
          "base_uri": "https://localhost:8080/"
        },
        "id": "7cVrOgJYDkEc",
        "outputId": "9f9a63e5-dff0-4821-f7b3-32615f58cb30"
      },
      "execution_count": null,
      "outputs": [
        {
          "output_type": "stream",
          "name": "stdout",
          "text": [
            "<class 'pandas.core.frame.DataFrame'>\n",
            "RangeIndex: 56 entries, 0 to 55\n",
            "Data columns (total 8 columns):\n",
            " #   Column                  Non-Null Count  Dtype \n",
            "---  ------                  --------------  ----- \n",
            " 0   airline                 56 non-null     object\n",
            " 1   avail_seat_km_per_week  56 non-null     int64 \n",
            " 2   incidents_85_99         56 non-null     int64 \n",
            " 3   fatal_accidents_85_99   56 non-null     int64 \n",
            " 4   fatalities_85_99        56 non-null     int64 \n",
            " 5   incidents_00_14         56 non-null     int64 \n",
            " 6   fatal_accidents_00_14   56 non-null     int64 \n",
            " 7   fatalities_00_14        56 non-null     int64 \n",
            "dtypes: int64(7), object(1)\n",
            "memory usage: 3.6+ KB\n"
          ]
        }
      ]
    },
    {
      "cell_type": "code",
      "source": [
        "100 * airlines.isnull().sum()/len(airlines)\n"
      ],
      "metadata": {
        "colab": {
          "base_uri": "https://localhost:8080/"
        },
        "id": "di9faQrbDkMP",
        "outputId": "feed8bb2-942e-4793-bff2-93d68bd3ad1b"
      },
      "execution_count": null,
      "outputs": [
        {
          "output_type": "execute_result",
          "data": {
            "text/plain": [
              "airline                   0.0\n",
              "avail_seat_km_per_week    0.0\n",
              "incidents_85_99           0.0\n",
              "fatal_accidents_85_99     0.0\n",
              "fatalities_85_99          0.0\n",
              "incidents_00_14           0.0\n",
              "fatal_accidents_00_14     0.0\n",
              "fatalities_00_14          0.0\n",
              "dtype: float64"
            ]
          },
          "metadata": {},
          "execution_count": 16
        }
      ]
    },
    {
      "cell_type": "code",
      "source": [
        "crashes[\"Survival Rate\"] = 100 * (crashes[\"Aboard\"] - crashes[\"Fatalities\"]) / crashes[\"Aboard\"]\n",
        "crashes.head()\n"
      ],
      "metadata": {
        "colab": {
          "base_uri": "https://localhost:8080/",
          "height": 354
        },
        "id": "dMrze9P3DkXl",
        "outputId": "42c7f30c-bff1-4e3c-96cc-67a9a08d4e58"
      },
      "execution_count": null,
      "outputs": [
        {
          "output_type": "execute_result",
          "data": {
            "text/plain": [
              "        Date                            Location                Operator  \\\n",
              "0 1908-09-17                 Fort Myer, Virginia    Military - U.S. Army   \n",
              "1 1912-07-12             AtlantiCity, New Jersey    Military - U.S. Navy   \n",
              "2 1913-08-06  Victoria, British Columbia, Canada                 Private   \n",
              "3 1913-09-09                  Over the North Sea  Military - German Navy   \n",
              "4 1913-10-17          Near Johannisthal, Germany  Military - German Navy   \n",
              "\n",
              "                     Type  Aboard  Fatalities  \\\n",
              "0        Wright Flyer III     2.0         1.0   \n",
              "1               Dirigible     5.0         5.0   \n",
              "2        Curtiss seaplane     1.0         1.0   \n",
              "3  Zeppelin L-1 (airship)    20.0        14.0   \n",
              "4  Zeppelin L-2 (airship)    30.0        30.0   \n",
              "\n",
              "                                             Summary  Survival Rate  \n",
              "0  During a demonstration flight, a U.S. Army fly...           50.0  \n",
              "1  First U.S. dirigible Akron exploded just offsh...            0.0  \n",
              "2  The first fatal airplane accident in Canada oc...            0.0  \n",
              "3  The airship flew into a thunderstorm and encou...           30.0  \n",
              "4  Hydrogen gas which was being vented was sucked...            0.0  "
            ],
            "text/html": [
              "\n",
              "  <div id=\"df-131f2098-7295-47a2-8219-bc72b3bd1ce5\">\n",
              "    <div class=\"colab-df-container\">\n",
              "      <div>\n",
              "<style scoped>\n",
              "    .dataframe tbody tr th:only-of-type {\n",
              "        vertical-align: middle;\n",
              "    }\n",
              "\n",
              "    .dataframe tbody tr th {\n",
              "        vertical-align: top;\n",
              "    }\n",
              "\n",
              "    .dataframe thead th {\n",
              "        text-align: right;\n",
              "    }\n",
              "</style>\n",
              "<table border=\"1\" class=\"dataframe\">\n",
              "  <thead>\n",
              "    <tr style=\"text-align: right;\">\n",
              "      <th></th>\n",
              "      <th>Date</th>\n",
              "      <th>Location</th>\n",
              "      <th>Operator</th>\n",
              "      <th>Type</th>\n",
              "      <th>Aboard</th>\n",
              "      <th>Fatalities</th>\n",
              "      <th>Summary</th>\n",
              "      <th>Survival Rate</th>\n",
              "    </tr>\n",
              "  </thead>\n",
              "  <tbody>\n",
              "    <tr>\n",
              "      <th>0</th>\n",
              "      <td>1908-09-17</td>\n",
              "      <td>Fort Myer, Virginia</td>\n",
              "      <td>Military - U.S. Army</td>\n",
              "      <td>Wright Flyer III</td>\n",
              "      <td>2.0</td>\n",
              "      <td>1.0</td>\n",
              "      <td>During a demonstration flight, a U.S. Army fly...</td>\n",
              "      <td>50.0</td>\n",
              "    </tr>\n",
              "    <tr>\n",
              "      <th>1</th>\n",
              "      <td>1912-07-12</td>\n",
              "      <td>AtlantiCity, New Jersey</td>\n",
              "      <td>Military - U.S. Navy</td>\n",
              "      <td>Dirigible</td>\n",
              "      <td>5.0</td>\n",
              "      <td>5.0</td>\n",
              "      <td>First U.S. dirigible Akron exploded just offsh...</td>\n",
              "      <td>0.0</td>\n",
              "    </tr>\n",
              "    <tr>\n",
              "      <th>2</th>\n",
              "      <td>1913-08-06</td>\n",
              "      <td>Victoria, British Columbia, Canada</td>\n",
              "      <td>Private</td>\n",
              "      <td>Curtiss seaplane</td>\n",
              "      <td>1.0</td>\n",
              "      <td>1.0</td>\n",
              "      <td>The first fatal airplane accident in Canada oc...</td>\n",
              "      <td>0.0</td>\n",
              "    </tr>\n",
              "    <tr>\n",
              "      <th>3</th>\n",
              "      <td>1913-09-09</td>\n",
              "      <td>Over the North Sea</td>\n",
              "      <td>Military - German Navy</td>\n",
              "      <td>Zeppelin L-1 (airship)</td>\n",
              "      <td>20.0</td>\n",
              "      <td>14.0</td>\n",
              "      <td>The airship flew into a thunderstorm and encou...</td>\n",
              "      <td>30.0</td>\n",
              "    </tr>\n",
              "    <tr>\n",
              "      <th>4</th>\n",
              "      <td>1913-10-17</td>\n",
              "      <td>Near Johannisthal, Germany</td>\n",
              "      <td>Military - German Navy</td>\n",
              "      <td>Zeppelin L-2 (airship)</td>\n",
              "      <td>30.0</td>\n",
              "      <td>30.0</td>\n",
              "      <td>Hydrogen gas which was being vented was sucked...</td>\n",
              "      <td>0.0</td>\n",
              "    </tr>\n",
              "  </tbody>\n",
              "</table>\n",
              "</div>\n",
              "      <button class=\"colab-df-convert\" onclick=\"convertToInteractive('df-131f2098-7295-47a2-8219-bc72b3bd1ce5')\"\n",
              "              title=\"Convert this dataframe to an interactive table.\"\n",
              "              style=\"display:none;\">\n",
              "        \n",
              "  <svg xmlns=\"http://www.w3.org/2000/svg\" height=\"24px\"viewBox=\"0 0 24 24\"\n",
              "       width=\"24px\">\n",
              "    <path d=\"M0 0h24v24H0V0z\" fill=\"none\"/>\n",
              "    <path d=\"M18.56 5.44l.94 2.06.94-2.06 2.06-.94-2.06-.94-.94-2.06-.94 2.06-2.06.94zm-11 1L8.5 8.5l.94-2.06 2.06-.94-2.06-.94L8.5 2.5l-.94 2.06-2.06.94zm10 10l.94 2.06.94-2.06 2.06-.94-2.06-.94-.94-2.06-.94 2.06-2.06.94z\"/><path d=\"M17.41 7.96l-1.37-1.37c-.4-.4-.92-.59-1.43-.59-.52 0-1.04.2-1.43.59L10.3 9.45l-7.72 7.72c-.78.78-.78 2.05 0 2.83L4 21.41c.39.39.9.59 1.41.59.51 0 1.02-.2 1.41-.59l7.78-7.78 2.81-2.81c.8-.78.8-2.07 0-2.86zM5.41 20L4 18.59l7.72-7.72 1.47 1.35L5.41 20z\"/>\n",
              "  </svg>\n",
              "      </button>\n",
              "      \n",
              "  <style>\n",
              "    .colab-df-container {\n",
              "      display:flex;\n",
              "      flex-wrap:wrap;\n",
              "      gap: 12px;\n",
              "    }\n",
              "\n",
              "    .colab-df-convert {\n",
              "      background-color: #E8F0FE;\n",
              "      border: none;\n",
              "      border-radius: 50%;\n",
              "      cursor: pointer;\n",
              "      display: none;\n",
              "      fill: #1967D2;\n",
              "      height: 32px;\n",
              "      padding: 0 0 0 0;\n",
              "      width: 32px;\n",
              "    }\n",
              "\n",
              "    .colab-df-convert:hover {\n",
              "      background-color: #E2EBFA;\n",
              "      box-shadow: 0px 1px 2px rgba(60, 64, 67, 0.3), 0px 1px 3px 1px rgba(60, 64, 67, 0.15);\n",
              "      fill: #174EA6;\n",
              "    }\n",
              "\n",
              "    [theme=dark] .colab-df-convert {\n",
              "      background-color: #3B4455;\n",
              "      fill: #D2E3FC;\n",
              "    }\n",
              "\n",
              "    [theme=dark] .colab-df-convert:hover {\n",
              "      background-color: #434B5C;\n",
              "      box-shadow: 0px 1px 3px 1px rgba(0, 0, 0, 0.15);\n",
              "      filter: drop-shadow(0px 1px 2px rgba(0, 0, 0, 0.3));\n",
              "      fill: #FFFFFF;\n",
              "    }\n",
              "  </style>\n",
              "\n",
              "      <script>\n",
              "        const buttonEl =\n",
              "          document.querySelector('#df-131f2098-7295-47a2-8219-bc72b3bd1ce5 button.colab-df-convert');\n",
              "        buttonEl.style.display =\n",
              "          google.colab.kernel.accessAllowed ? 'block' : 'none';\n",
              "\n",
              "        async function convertToInteractive(key) {\n",
              "          const element = document.querySelector('#df-131f2098-7295-47a2-8219-bc72b3bd1ce5');\n",
              "          const dataTable =\n",
              "            await google.colab.kernel.invokeFunction('convertToInteractive',\n",
              "                                                     [key], {});\n",
              "          if (!dataTable) return;\n",
              "\n",
              "          const docLinkHtml = 'Like what you see? Visit the ' +\n",
              "            '<a target=\"_blank\" href=https://colab.research.google.com/notebooks/data_table.ipynb>data table notebook</a>'\n",
              "            + ' to learn more about interactive tables.';\n",
              "          element.innerHTML = '';\n",
              "          dataTable['output_type'] = 'display_data';\n",
              "          await google.colab.output.renderOutput(dataTable, element);\n",
              "          const docLink = document.createElement('div');\n",
              "          docLink.innerHTML = docLinkHtml;\n",
              "          element.appendChild(docLink);\n",
              "        }\n",
              "      </script>\n",
              "    </div>\n",
              "  </div>\n",
              "  "
            ]
          },
          "metadata": {},
          "execution_count": 17
        }
      ]
    },
    {
      "cell_type": "code",
      "source": [
        "data_nobs = len(crashes[\"Survival Rate\"])\n",
        "data_mean = crashes[\"Survival Rate\"].mean()\n",
        "data_min = crashes[\"Survival Rate\"].min()\n",
        "data_max = crashes[\"Survival Rate\"].max()\n",
        "data_var = crashes[\"Survival Rate\"].var()\n",
        "data_skew = crashes[\"Survival Rate\"].skew()\n",
        "data_kurtosis = crashes[\"Survival Rate\"].kurtosis()\n",
        "\n",
        "print(\"Survival Rate Stats:\")\n",
        "print(\"Nobs: {}\".format(round(data_nobs,2)))\n",
        "print(\"Mean: {}\".format(round(data_mean,2)))\n",
        "print(\"Min: {}\".format(round(data_min,2)))\n",
        "print(\"Max: {}\".format(round(data_max,2)))\n",
        "print(\"Variance: {}\".format(round(data_var,2)))\n",
        "print(\"Skewness: {}\".format(round(data_skew,2)))\n",
        "print(\"Kurtosis: {}\".format(round(data_kurtosis,2)))"
      ],
      "metadata": {
        "colab": {
          "base_uri": "https://localhost:8080/"
        },
        "id": "z-2cxjpND5f6",
        "outputId": "1a217671-8ebe-44c9-d825-5bb17e646d64"
      },
      "execution_count": null,
      "outputs": [
        {
          "output_type": "stream",
          "name": "stdout",
          "text": [
            "Survival Rate Stats:\n",
            "Nobs: 5191\n",
            "Mean: 16.57\n",
            "Min: 0.0\n",
            "Max: 100.0\n",
            "Variance: 897.95\n",
            "Skewness: 1.67\n",
            "Kurtosis: 1.35\n"
          ]
        }
      ]
    },
    {
      "cell_type": "code",
      "source": [
        "yearly_survival = crashes[[\"Date\",\"Survival Rate\"]]\n",
        "\n",
        "yearly_survival['Date'] = pd.to_datetime(yearly_survival['Date'])\n",
        "yearly_survival['Date'] = yearly_survival['Date'].dt.year\n",
        "\n",
        "yearly_survival.plot(legend=None)\n",
        "plt.ylabel(\"Survival Rate, %\")\n",
        "plt.xlabel(\"Year\")\n",
        "plt.title(\"Survival Rate per Year\")\n",
        "plt.xticks([x for x in range(1908,2009,10)], rotation='vertical')\n",
        "plt.axhline(y=data_mean, color='r', linestyle='-')\n",
        "x1,x2,y1,y2 = plt.axis()  \n",
        "plt.axis((1908,2008,0,110))\n",
        "plt.show()\n"
      ],
      "metadata": {
        "colab": {
          "base_uri": "https://localhost:8080/",
          "height": 519
        },
        "id": "RrjUzMrjjpMn",
        "outputId": "eeb40604-f877-4c55-a3b9-bf8c4f9a563e"
      },
      "execution_count": null,
      "outputs": [
        {
          "output_type": "stream",
          "name": "stderr",
          "text": [
            "/usr/local/lib/python3.7/dist-packages/ipykernel_launcher.py:3: SettingWithCopyWarning: \n",
            "A value is trying to be set on a copy of a slice from a DataFrame.\n",
            "Try using .loc[row_indexer,col_indexer] = value instead\n",
            "\n",
            "See the caveats in the documentation: https://pandas.pydata.org/pandas-docs/stable/user_guide/indexing.html#returning-a-view-versus-a-copy\n",
            "  This is separate from the ipykernel package so we can avoid doing imports until\n",
            "/usr/local/lib/python3.7/dist-packages/ipykernel_launcher.py:4: SettingWithCopyWarning: \n",
            "A value is trying to be set on a copy of a slice from a DataFrame.\n",
            "Try using .loc[row_indexer,col_indexer] = value instead\n",
            "\n",
            "See the caveats in the documentation: https://pandas.pydata.org/pandas-docs/stable/user_guide/indexing.html#returning-a-view-versus-a-copy\n",
            "  after removing the cwd from sys.path.\n"
          ]
        },
        {
          "output_type": "display_data",
          "data": {
            "text/plain": [
              "<Figure size 432x288 with 1 Axes>"
            ],
            "image/png": "[encoded data removed]"
          },
          "metadata": {
            "needs_background": "light"
          }
        }
      ]
    },
    {
      "cell_type": "code",
      "source": [
        "airlines.incidents_85_99.hist(label=\"1985 - 1999\", alpha = 0.5)\n",
        "airlines.incidents_00_14.hist(label=\"2000 - 2015\", alpha = 0.5)\n",
        "plt.legend(loc=\"upper right\")\n",
        "plt.xlabel(\"Accidents per Airline\")\n",
        "plt.ylabel(\"Frequency\")\n",
        "plt.title(\"Histogram of Accidents per Airline\")\n",
        "plt.show()"
      ],
      "metadata": {
        "colab": {
          "base_uri": "https://localhost:8080/",
          "height": 295
        },
        "id": "ywupRGN3jtpn",
        "outputId": "5fd440cd-7257-416f-97c0-f4e15ea04f4b"
      },
      "execution_count": null,
      "outputs": [
        {
          "output_type": "display_data",
          "data": {
            "text/plain": [
              "<Figure size 432x288 with 1 Axes>"
            ],
            "image/png": "[encoded data removed]"
          },
          "metadata": {
            "needs_background": "light"
          }
        }
      ]
    },
    {
      "cell_type": "code",
      "source": [
        "#1985 - 1999: Accidents\n",
        "data = airlines.incidents_85_99\n",
        "data_nobs = len(data)\n",
        "data_mean = data.mean()\n",
        "data_min = data.min()\n",
        "data_max = data.max()\n",
        "data_var = data.var()\n",
        "data_skew = data.skew()\n",
        "data_kurtosis = data.kurtosis()\n",
        "\n",
        "print(\"1985 - 1999 Accidents Stats:\")\n",
        "print(\"Nobs: {}\".format(round(data_nobs,2)))\n",
        "print(\"Mean: {}\".format(round(data_mean,2)))\n",
        "print(\"Min: {}\".format(round(data_min,2)))\n",
        "print(\"Max: {}\".format(round(data_max,2)))\n",
        "print(\"Variance: {}\".format(round(data_var,2)))\n",
        "print(\"Skewness: {}\".format(round(data_skew,2)))\n",
        "print(\"Kurtosis: {}\".format(round(data_kurtosis,2)))"
      ],
      "metadata": {
        "colab": {
          "base_uri": "https://localhost:8080/"
        },
        "id": "YxyRAOaGkPhZ",
        "outputId": "f948fdce-b4e3-4d1f-b4aa-7d40bafc53fd"
      },
      "execution_count": null,
      "outputs": [
        {
          "output_type": "stream",
          "name": "stdout",
          "text": [
            "1985 - 1999 Accidents Stats:\n",
            "Nobs: 56\n",
            "Mean: 7.18\n",
            "Min: 0\n",
            "Max: 76\n",
            "Variance: 121.79\n",
            "Skewness: 4.73\n",
            "Kurtosis: 27.87\n"
          ]
        }
      ]
    },
    {
      "cell_type": "code",
      "source": [
        "#2000 - 2014: Accidents\n",
        "data = airlines.incidents_00_14\n",
        "data_nobs = len(data)\n",
        "data_mean = data.mean()\n",
        "data_min = data.min()\n",
        "data_max = data.max()\n",
        "data_var = data.var()\n",
        "data_skew = data.skew()\n",
        "data_kurtosis = data.kurtosis()\n",
        "\n",
        "print(\"2000 - 2014 Accidents Stats:\")\n",
        "print(\"Nobs: {}\".format(round(data_nobs,2)))\n",
        "print(\"Mean: {}\".format(round(data_mean,2)))\n",
        "print(\"Min: {}\".format(round(data_min,2)))\n",
        "print(\"Max: {}\".format(round(data_max,2)))\n",
        "print(\"Variance: {}\".format(round(data_var,2)))\n",
        "print(\"Skewness: {}\".format(round(data_skew,2)))\n",
        "print(\"Kurtosis: {}\".format(round(data_kurtosis,2)))"
      ],
      "metadata": {
        "colab": {
          "base_uri": "https://localhost:8080/"
        },
        "id": "fiB4i6ROkPrt",
        "outputId": "74e54c93-5eb9-48a0-d2d0-18451907c648"
      },
      "execution_count": null,
      "outputs": [
        {
          "output_type": "stream",
          "name": "stdout",
          "text": [
            "2000 - 2014 Accidents Stats:\n",
            "Nobs: 56\n",
            "Mean: 4.12\n",
            "Min: 0\n",
            "Max: 24\n",
            "Variance: 20.66\n",
            "Skewness: 2.21\n",
            "Kurtosis: 6.47\n"
          ]
        }
      ]
    },
    {
      "cell_type": "code",
      "source": [
        "t_stat, p_val = stats.wilcoxon(airlines.incidents_85_99, airlines.incidents_00_14)\n",
        "print(\"t-stat: {}. p-val: {}.\".format(round(t_stat,3),round(p_val,3)))"
      ],
      "metadata": {
        "colab": {
          "base_uri": "https://localhost:8080/"
        },
        "id": "yr0SC5-Ckofl",
        "outputId": "542a530a-d8cd-4d0d-88a7-c48068c8625f"
      },
      "execution_count": null,
      "outputs": [
        {
          "output_type": "stream",
          "name": "stdout",
          "text": [
            "t-stat: 258.5. p-val: 0.002.\n"
          ]
        }
      ]
    },
    {
      "cell_type": "code",
      "source": [
        "airlines.fatalities_85_99.hist(label=\"1985 - 1999\", alpha = 0.5)\n",
        "airlines.fatalities_00_14.hist(label=\"2000 - 2015\", alpha = 0.5)\n",
        "plt.legend(loc=\"upper right\")\n",
        "plt.xlabel(\"Fatalities per Airline\")\n",
        "plt.ylabel(\"Frequency\")\n",
        "plt.title(\"Histogram of Fatalities per Airline\")\n",
        "plt.show()"
      ],
      "metadata": {
        "colab": {
          "base_uri": "https://localhost:8080/",
          "height": 295
        },
        "id": "YEhtlQKJktCz",
        "outputId": "de8647d1-dc9d-4f13-9657-0c21dc57ab81"
      },
      "execution_count": null,
      "outputs": [
        {
          "output_type": "display_data",
          "data": {
            "text/plain": [
              "<Figure size 432x288 with 1 Axes>"
            ],
            "image/png": "[encoded data removed]"
          },
          "metadata": {
            "needs_background": "light"
          }
        }
      ]
    },
    {
      "cell_type": "code",
      "source": [
        "#1985 - 1999: Fatalities\n",
        "data = airlines.fatalities_85_99\n",
        "data_nobs = len(data)\n",
        "data_mean = data.mean()\n",
        "data_min = data.min()\n",
        "data_max = data.max()\n",
        "data_var = data.var()\n",
        "data_skew = data.skew()\n",
        "data_kurtosis = data.kurtosis()\n",
        "\n",
        "print(\"1985 - 1999 Fatalities Stats:\")\n",
        "print(\"Nobs: {}\".format(round(data_nobs,2)))\n",
        "print(\"Mean: {}\".format(round(data_mean,2)))\n",
        "print(\"Min: {}\".format(round(data_min,2)))\n",
        "print(\"Max: {}\".format(round(data_max,2)))\n",
        "print(\"Variance: {}\".format(round(data_var,2)))\n",
        "print(\"Skewness: {}\".format(round(data_skew,2)))\n",
        "print(\"Kurtosis: {}\".format(round(data_kurtosis,2)))"
      ],
      "metadata": {
        "colab": {
          "base_uri": "https://localhost:8080/"
        },
        "id": "ZptQd16bku8t",
        "outputId": "0c1b1dad-699a-4b9a-d1f0-a8ef8f6012b2"
      },
      "execution_count": null,
      "outputs": [
        {
          "output_type": "stream",
          "name": "stdout",
          "text": [
            "1985 - 1999 Fatalities Stats:\n",
            "Nobs: 56\n",
            "Mean: 112.41\n",
            "Min: 0\n",
            "Max: 535\n",
            "Variance: 21518.28\n",
            "Skewness: 1.32\n",
            "Kurtosis: 0.83\n"
          ]
        }
      ]
    },
    {
      "cell_type": "code",
      "source": [
        "#2000 - 2014: Fatalities\n",
        "data = airlines.fatalities_00_14\n",
        "data_nobs = len(data)\n",
        "data_mean = data.mean()\n",
        "data_min = data.min()\n",
        "data_max = data.max()\n",
        "data_var = data.var()\n",
        "data_skew = data.skew()\n",
        "data_kurtosis = data.kurtosis()\n",
        "\n",
        "print(\"2000 - 2014 Fatalities Stats:\")\n",
        "print(\"Nobs: {}\".format(round(data_nobs,2)))\n",
        "print(\"Mean: {}\".format(round(data_mean,2)))\n",
        "print(\"Min: {}\".format(round(data_min,2)))\n",
        "print(\"Max: {}\".format(round(data_max,2)))\n",
        "print(\"Variance: {}\".format(round(data_var,2)))\n",
        "print(\"Skewness: {}\".format(round(data_skew,2)))\n",
        "print(\"Kurtosis: {}\".format(round(data_kurtosis,2)))"
      ],
      "metadata": {
        "colab": {
          "base_uri": "https://localhost:8080/"
        },
        "id": "RUdxtlBNk6s9",
        "outputId": "23a8d9b6-75e1-4b87-f8c4-25e753268551"
      },
      "execution_count": null,
      "outputs": [
        {
          "output_type": "stream",
          "name": "stdout",
          "text": [
            "2000 - 2014 Fatalities Stats:\n",
            "Nobs: 56\n",
            "Mean: 55.52\n",
            "Min: 0\n",
            "Max: 537\n",
            "Variance: 12394.98\n",
            "Skewness: 2.67\n",
            "Kurtosis: 7.55\n"
          ]
        }
      ]
    },
    {
      "cell_type": "code",
      "source": [
        "t_stat, p_val = stats.wilcoxon(airlines.fatalities_85_99, airlines.fatalities_00_14)\n",
        "print(\"t-stat: {}. p-val: {}.\".format(round(t_stat,3),round(p_val,3)))"
      ],
      "metadata": {
        "colab": {
          "base_uri": "https://localhost:8080/"
        },
        "id": "W_PIBLkPlCR1",
        "outputId": "1b300cda-7bef-4991-b16c-34132e44e9e1"
      },
      "execution_count": null,
      "outputs": [
        {
          "output_type": "stream",
          "name": "stdout",
          "text": [
            "t-stat: 258.0. p-val: 0.009.\n"
          ]
        }
      ]
    },
    {
      "cell_type": "code",
      "source": [
        "airlines.fatal_accidents_85_99.hist(label=\"1985 - 1999\", alpha = 0.5)\n",
        "airlines.fatal_accidents_00_14.hist(label=\"2000 - 2015\", alpha = 0.5)\n",
        "plt.legend(loc=\"upper right\")\n",
        "plt.xlabel(\"Fatal Accidents per Airline\")\n",
        "plt.ylabel(\"Frequency\")\n",
        "plt.title(\"Histogram of Fatal Accidents per Airline\")\n",
        "plt.show()"
      ],
      "metadata": {
        "colab": {
          "base_uri": "https://localhost:8080/",
          "height": 295
        },
        "id": "qBF85Y4HlKhV",
        "outputId": "1caaa5e3-3996-4443-f471-019a27ee893c"
      },
      "execution_count": null,
      "outputs": [
        {
          "output_type": "display_data",
          "data": {
            "text/plain": [
              "<Figure size 432x288 with 1 Axes>"
            ],
            "image/png": "[encoded data removed]"
          },
          "metadata": {
            "needs_background": "light"
          }
        }
      ]
    },
    {
      "cell_type": "code",
      "source": [
        "#1985 - 1999: Fatal Accidents\n",
        "data = airlines.fatal_accidents_85_99\n",
        "data_nobs = len(data)\n",
        "data_mean = data.mean()\n",
        "data_min = data.min()\n",
        "data_max = data.max()\n",
        "data_var = data.var()\n",
        "data_skew = data.skew()\n",
        "data_kurtosis = data.kurtosis()\n",
        "\n",
        "print(\"1985 - 1999 Fatal Accidents Stats:\")\n",
        "print(\"Nobs: {}\".format(round(data_nobs,2)))\n",
        "print(\"Mean: {}\".format(round(data_mean,2)))\n",
        "print(\"Min: {}\".format(round(data_min,2)))\n",
        "print(\"Max: {}\".format(round(data_max,2)))\n",
        "print(\"Variance: {}\".format(round(data_var,2)))\n",
        "print(\"Skewness: {}\".format(round(data_skew,2)))\n",
        "print(\"Kurtosis: {}\".format(round(data_kurtosis,2)))"
      ],
      "metadata": {
        "colab": {
          "base_uri": "https://localhost:8080/"
        },
        "id": "njrNJS-nlRI3",
        "outputId": "6df574c7-f5c9-46be-9fd2-8007b9fa434b"
      },
      "execution_count": null,
      "outputs": [
        {
          "output_type": "stream",
          "name": "stdout",
          "text": [
            "1985 - 1999 Fatal Accidents Stats:\n",
            "Nobs: 56\n",
            "Mean: 2.18\n",
            "Min: 0\n",
            "Max: 14\n",
            "Variance: 8.19\n",
            "Skewness: 2.3\n",
            "Kurtosis: 6.32\n"
          ]
        }
      ]
    },
    {
      "cell_type": "code",
      "source": [
        "#2000 - 2014: Fatal Accidents\n",
        "data = airlines.fatal_accidents_00_14\n",
        "data_nobs = len(data)\n",
        "data_mean = data.mean()\n",
        "data_min = data.min()\n",
        "data_max = data.max()\n",
        "data_var = data.var()\n",
        "data_skew = data.skew()\n",
        "data_kurtosis = data.kurtosis()\n",
        "\n",
        "print(\"2000 - 2014 Fatal Accidents Stats:\")\n",
        "print(\"Nobs: {}\".format(round(data_nobs,2)))\n",
        "print(\"Mean: {}\".format(round(data_mean,2)))\n",
        "print(\"Min: {}\".format(round(data_min,2)))\n",
        "print(\"Max: {}\".format(round(data_max,2)))\n",
        "print(\"Variance: {}\".format(round(data_var,2)))\n",
        "print(\"Skewness: {}\".format(round(data_skew,2)))\n",
        "print(\"Kurtosis: {}\".format(round(data_kurtosis,2)))\n"
      ],
      "metadata": {
        "colab": {
          "base_uri": "https://localhost:8080/"
        },
        "id": "-k3bvnr7lRMN",
        "outputId": "06f2a20b-f877-4236-81ec-6f2fb2bac9b8"
      },
      "execution_count": null,
      "outputs": [
        {
          "output_type": "stream",
          "name": "stdout",
          "text": [
            "2000 - 2014 Fatal Accidents Stats:\n",
            "Nobs: 56\n",
            "Mean: 0.66\n",
            "Min: 0\n",
            "Max: 3\n",
            "Variance: 0.74\n",
            "Skewness: 0.91\n",
            "Kurtosis: -0.5\n"
          ]
        }
      ]
    },
    {
      "cell_type": "code",
      "source": [
        "t_stat, p_val = stats.wilcoxon(airlines.fatal_accidents_85_99, airlines.fatal_accidents_00_14)\n",
        "print(\"t-stat: {}. p-val: {}.\".format(round(t_stat,3),round(p_val,3)))"
      ],
      "metadata": {
        "colab": {
          "base_uri": "https://localhost:8080/"
        },
        "id": "SP-OvqhElhpv",
        "outputId": "87b0db50-3404-45e1-d3cb-2f12252c97ac"
      },
      "execution_count": null,
      "outputs": [
        {
          "output_type": "stream",
          "name": "stdout",
          "text": [
            "t-stat: 87.0. p-val: 0.0.\n",
            "t-stat: 87.0. p-val: 0.0.\n"
          ]
        }
      ]
    },
    {
      "cell_type": "code",
      "source": [
        "airlines[\"total_incidents\"] = airlines[\"incidents_85_99\"] + airlines[\"incidents_00_14\"]\n",
        "airlines[\"total_fatal_accidents\"] = airlines[\"fatal_accidents_85_99\"] + airlines[\"fatal_accidents_00_14\"]\n",
        "airlines[\"total_fatalities\"] = airlines[\"fatalities_85_99\"] + airlines[\"fatalities_00_14\"]"
      ],
      "metadata": {
        "id": "vk2temVylmYp"
      },
      "execution_count": null,
      "outputs": []
    },
    {
      "cell_type": "code",
      "source": [
        "del airlines[\"incidents_85_99\"]\n",
        "del airlines[\"incidents_00_14\"]\n",
        "del airlines[\"fatal_accidents_85_99\"]\n",
        "del airlines[\"fatal_accidents_00_14\"]\n",
        "del airlines[\"fatalities_85_99\"]\n",
        "del airlines[\"fatalities_00_14\"]"
      ],
      "metadata": {
        "id": "bB9nP_fnluar"
      },
      "execution_count": null,
      "outputs": []
    },
    {
      "cell_type": "code",
      "source": [
        "airlines[\"norm_total_incidents\"] = airlines[\"total_incidents\"] / airlines[\"avail_seat_km_per_week\"] * 1000000\n",
        "airlines[\"norm_total_fatal_accidents\"] = airlines[\"total_fatal_accidents\"] / airlines[\"avail_seat_km_per_week\"] * 1000000\n",
        "airlines[\"norm_total_fatalities\"] = airlines[\"total_fatalities\"] / airlines[\"avail_seat_km_per_week\"] * 1000000"
      ],
      "metadata": {
        "id": "fdBeWZQNl0wZ"
      },
      "execution_count": null,
      "outputs": []
    },
    {
      "cell_type": "code",
      "source": [
        "del airlines[\"total_incidents\"]\n",
        "del airlines[\"total_fatal_accidents\"]\n",
        "del airlines[\"total_fatalities\"]"
      ],
      "metadata": {
        "id": "zJZ3Oc5ml62p"
      },
      "execution_count": null,
      "outputs": []
    },
    {
      "cell_type": "code",
      "source": [
        "#Normalized Accidents\n",
        "data = airlines[[\"airline\",\"norm_total_incidents\"]]\n",
        "data = data.sort_values(by=\"norm_total_incidents\", ascending=False).head()\n",
        "data.set_index(\"airline\", inplace=True)\n",
        "data.norm_total_incidents.plot(kind=\"bar\")\n",
        "plt.title(\"Airlines with Most Normalized Accidents\")\n",
        "plt.xlabel(\"Airline\")\n",
        "plt.ylabel(\"Normalized Accidents\")\n",
        "plt.show()"
      ],
      "metadata": {
        "colab": {
          "base_uri": "https://localhost:8080/",
          "height": 394
        },
        "id": "hcPToge0l_i_",
        "outputId": "7a97b9f6-7e6b-4d6c-f22e-7ebdb5cff60a"
      },
      "execution_count": null,
      "outputs": [
        {
          "output_type": "display_data",
          "data": {
            "text/plain": [
              "<Figure size 432x288 with 1 Axes>"
            ],
            "image/png": "[encoded data removed]"
          },
          "metadata": {
            "needs_background": "light"
          }
        }
      ]
    },
    {
      "cell_type": "code",
      "source": [
        "#Normalized Fatal Accidents\n",
        "data = airlines[[\"airline\",\"norm_total_fatal_accidents\"]]\n",
        "data = data.sort_values(by=\"norm_total_fatal_accidents\", ascending=False).head()\n",
        "data.set_index(\"airline\", inplace=True)\n",
        "data.norm_total_fatal_accidents.plot(kind=\"bar\")\n",
        "plt.title(\"Airlines with Most Normalized Fatal Accidents\")\n",
        "plt.xlabel(\"Airline\")\n",
        "plt.ylabel(\"Normalized Fatal Accidents\")\n",
        "plt.show()"
      ],
      "metadata": {
        "colab": {
          "base_uri": "https://localhost:8080/",
          "height": 394
        },
        "id": "w-UGK7RamDm2",
        "outputId": "6596d67a-0f97-4a98-f129-147871ca0a1b"
      },
      "execution_count": null,
      "outputs": [
        {
          "output_type": "display_data",
          "data": {
            "text/plain": [
              "<Figure size 432x288 with 1 Axes>"
            ],
            "image/png": "[encoded data removed]"
          },
          "metadata": {
            "needs_background": "light"
          }
        }
      ]
    },
    {
      "cell_type": "code",
      "source": [
        "#Normalized Fatalities\n",
        "data = airlines[[\"airline\",\"norm_total_fatalities\"]]\n",
        "data = data.sort_values(by=\"norm_total_fatalities\", ascending=False).head()\n",
        "data.set_index(\"airline\", inplace=True)\n",
        "data.norm_total_fatalities.plot(kind=\"bar\")\n",
        "plt.title(\"Airlines with Most Normalized Fatalities\")\n",
        "plt.xlabel(\"Airline\")\n",
        "plt.ylabel(\"Normalized Fatalities\")\n",
        "plt.show()"
      ],
      "metadata": {
        "colab": {
          "base_uri": "https://localhost:8080/",
          "height": 394
        },
        "id": "VbFGLpk0mJmP",
        "outputId": "fb54f315-423c-47c5-a718-295384a258d4"
      },
      "execution_count": null,
      "outputs": [
        {
          "output_type": "display_data",
          "data": {
            "text/plain": [
              "<Figure size 432x288 with 1 Axes>"
            ],
            "image/png": "[encoded data removed]"
          },
          "metadata": {
            "needs_background": "light"
          }
        }
      ]
    }
  ]
}